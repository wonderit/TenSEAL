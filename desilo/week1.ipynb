{
 "cells": [
  {
   "cell_type": "markdown",
   "metadata": {
    "collapsed": true,
    "pycharm": {
     "name": "#%% md\n"
    }
   },
   "source": [
    "# Week 1 study case.\n",
    "## Study requirements.\n",
    "USE SEAL!!!!!\n",
    "## Participants.\n",
    "1. Data providers - individuals (alba-saeng).\n",
    "2. Client (The government).\n",
    "3. Service provider (A surveying company).\n",
    "## Scenario.\n",
    "0.  The client has to decide\n",
    "    *  The level of security (Probably bound be the law).\n",
    "    *  The number of samples (Probably bound by the price of the service).\n",
    "1.  The client asks for a service to calculate the __average__ age of data providers to the service provider.\n",
    "2.  The service provider hands over the __*key generating program*__ to generate\n",
    "    *  a public key.\n",
    "    *  a set of evaluation keys.\n",
    "    *  an appropriate homomorphic encryption parameters. (encryption policy)\n",
    "3.  The client generates the necessary requirements, using the  __*key generating program*__, together with the desired number of samples, and remits the public key, the evaluation key and the number of samples to the service provider. The client holds the private key and does not reveal it.\n",
    "4.  The service provider calls the data providers and distributes the __*encrypting program*__ that contains embedded public keys (the service provider holds the list of data providers).\n",
    "5.  Data providers encrypt their ages using the __*encrypting program*__ and submit the encrypted data to the service provider.\n",
    "6.  The service provider calculates the __average__ age in encrypted domain, then return the result to the client.\n",
    "7.  The client decrypts the result with the private key the party holds to itself."
   ]
  },
  {
   "cell_type": "code",
   "execution_count": 34,
   "outputs": [],
   "source": [
    "import numpy as np\n",
    "import tenseal as ts"
   ],
   "metadata": {
    "collapsed": false,
    "pycharm": {
     "name": "#%%\n"
    }
   }
  },
  {
   "cell_type": "code",
   "execution_count": 119,
   "outputs": [],
   "source": [
    "\"\"\"\n",
    "x is the input fixed number which is of integer datatype\n",
    "e is the number of fractional bits for example in Q1.15 e = 15\n",
    "\"\"\"\n",
    "def to_float(x,e):\n",
    "    c = abs(x)\n",
    "    sign = 1\n",
    "    if x < 0:\n",
    "        # convert back from two's complement\n",
    "        c = x - 1\n",
    "        c = ~c\n",
    "        sign = -1\n",
    "    f = (1.0 * c) / (2 ** e)\n",
    "    f = f * sign\n",
    "    return f\n",
    "\"\"\"\n",
    "f is the input floating point number\n",
    "e is the number of fractional bits in the Q format.\n",
    "    Example in Q1.15 format e = 15\n",
    "\"\"\"\n",
    "def to_fixed(f,e):\n",
    "    a = f* (2**e)\n",
    "    b = int(round(a))\n",
    "    if a < 0:\n",
    "        # next three lines turns b into it's 2's complement.\n",
    "        b = abs(b)\n",
    "        b = ~b\n",
    "        b = b + 1\n",
    "    return b\n",
    "\n",
    "def to_fixed_array(float_array, e):\n",
    "    return list(map(lambda x: to_fixed(x, e), float_array))\n",
    "\n",
    "def to_float_array(fixed_array, e):\n",
    "    return list(map(lambda x: to_float(x, e), fixed_array))\n",
    "\n",
    "def trunc(fp, e):\n",
    "    return fp >> e\n",
    "\n",
    "\n",
    "def trunc_array(fp_array, e):\n",
    "    return list(map(lambda x: x >> e, fp_array))\n",
    "\n",
    "\n",
    "def test_array(fp_array, e):\n",
    "    return list(map(lambda x: x + e, fp_array))"
   ],
   "metadata": {
    "collapsed": false,
    "pycharm": {
     "name": "#%%\n"
    }
   }
  },
  {
   "cell_type": "code",
   "execution_count": 62,
   "outputs": [
    {
     "data": {
      "text/plain": "3221225472"
     },
     "execution_count": 62,
     "metadata": {},
     "output_type": "execute_result"
    }
   ],
   "source": [
    "a = to_fixed(1.5, 15)\n",
    "b = to_fixed(2.0, 15)\n",
    "ab = a * b\n",
    "ab"
   ],
   "metadata": {
    "collapsed": false,
    "pycharm": {
     "name": "#%%\n"
    }
   }
  },
  {
   "cell_type": "code",
   "execution_count": 64,
   "outputs": [
    {
     "name": "stdout",
     "output_type": "stream",
     "text": [
      "98304 3.0\n"
     ]
    }
   ],
   "source": [
    "trunc_ab = trunc(ab, 15)\n",
    "float_ab = to_float(trunc_ab, 15)\n",
    "print(trunc_ab, float_ab)"
   ],
   "metadata": {
    "collapsed": false,
    "pycharm": {
     "name": "#%%\n"
    }
   }
  },
  {
   "cell_type": "code",
   "execution_count": 60,
   "outputs": [
    {
     "data": {
      "text/plain": "[6, 5, 11, 12, 15]"
     },
     "execution_count": 60,
     "metadata": {},
     "output_type": "execute_result"
    }
   ],
   "source": [
    "f = test_array(s, 15)\n",
    "s"
   ],
   "metadata": {
    "collapsed": false,
    "pycharm": {
     "name": "#%%\n"
    }
   }
  },
  {
   "cell_type": "code",
   "execution_count": 38,
   "outputs": [],
   "source": [
    "FRACTIONAL_BITS = 15\n",
    "# Client\n",
    "security_level = {\n",
    "    'scheme_type': ts.SCHEME_TYPE.BFV,\n",
    "    'poly_modulus_degree': 4096,\n",
    "    'plain_modulus': 1032193\n",
    "}"
   ],
   "metadata": {
    "collapsed": false,
    "pycharm": {
     "name": "#%%\n"
    }
   }
  },
  {
   "cell_type": "code",
   "execution_count": 65,
   "outputs": [
    {
     "data": {
      "text/plain": "<tenseal.enc_context.Context at 0x7f082091b730>"
     },
     "execution_count": 65,
     "metadata": {},
     "output_type": "execute_result"
    }
   ],
   "source": [
    "context = ts.context(security_level['scheme_type'], poly_modulus_degree=security_level['poly_modulus_degree'], plain_modulus=security_level['plain_modulus'])\n",
    "context"
   ],
   "metadata": {
    "collapsed": false,
    "pycharm": {
     "name": "#%%\n"
    }
   }
  },
  {
   "cell_type": "code",
   "execution_count": 85,
   "outputs": [
    {
     "name": "stdout",
     "output_type": "stream",
     "text": [
      "plain vector: [32, 57, 17, 44, 37]\n",
      "plain average: 37.4\n"
     ]
    }
   ],
   "source": [
    "n_count = 5\n",
    "plain_vector = np.random.randint(10, 80, size=n_count).tolist()\n",
    "print('plain vector:', plain_vector)\n",
    "print('plain average:', np.average(plain_vector))"
   ],
   "metadata": {
    "collapsed": false,
    "pycharm": {
     "name": "#%%\n"
    }
   }
  },
  {
   "cell_type": "code",
   "execution_count": 137,
   "outputs": [
    {
     "name": "stdout",
     "output_type": "stream",
     "text": [
      "[1048576, 1867776, 557056, 1441792, 1212416] [6554, 6554, 6554, 6554, 6554]\n",
      "add [1048576, 1867776, 557056, 1441792, 1212416, 6554, 6554, 6554, 6554, 6554]\n",
      "6.400390625 6872367104 6.4\n"
     ]
    }
   ],
   "source": [
    "# test in plain text\n",
    "dividend = [1/n_count]*n_count\n",
    "fp_v = to_fixed_array(plain_vector, FRACTIONAL_BITS)\n",
    "\n",
    "fp_d = to_fixed_array(dividend, FRACTIONAL_BITS)\n",
    "print(fp_v, fp_d)\n",
    "print('add', fp_v + fp_d)\n",
    "mul_result = fp_v[0] * fp_d[0]\n",
    "result = trunc(mul_result, FRACTIONAL_BITS)\n",
    "result = to_float(result, FRACTIONAL_BITS)\n",
    "print(result, mul_result, plain_vector[0] * dividend[0])"
   ],
   "metadata": {
    "collapsed": false,
    "pycharm": {
     "name": "#%%\n"
    }
   }
  },
  {
   "cell_type": "code",
   "execution_count": 135,
   "outputs": [
    {
     "name": "stdout",
     "output_type": "stream",
     "text": [
      "[32, 57, 17, 44, 37] [0.2, 0.2, 0.2, 0.2, 0.2]\n",
      "[1048576, 1867776, 557056, 1441792, 1212416] [6554, 6554, 6554, 6554, 6554]\n",
      "[32.0, 57.0, 17.0, 44.0, 37.0] [0.20001220703125, 0.20001220703125, 0.20001220703125, 0.20001220703125, 0.20001220703125]\n"
     ]
    }
   ],
   "source": [
    "fp_plain_vector = to_fixed_array(plain_vector, FRACTIONAL_BITS)\n",
    "\n",
    "encrypted_vector = ts.bfv_vector(context, fp_plain_vector)\n",
    "# encrypted_vector = ts.bfv_vector(context, plain_vector)\n",
    "\n",
    "dividend = [1/n_count]*n_count\n",
    "fp_d = to_fixed_array(dividend, FRACTIONAL_BITS)\n",
    "\n",
    "fp_encrypted_dividend = ts.bfv_vector(context, fp_d)\n",
    "print(plain_vector, dividend)\n",
    "print(fp_plain_vector, fp_d)\n",
    "print(to_float_array(fp_plain_vector, FRACTIONAL_BITS), to_float_array(fp_d, FRACTIONAL_BITS))"
   ],
   "metadata": {
    "collapsed": false,
    "pycharm": {
     "name": "#%%\n"
    }
   }
  },
  {
   "cell_type": "code",
   "execution_count": 136,
   "outputs": [
    {
     "name": "stdout",
     "output_type": "stream",
     "text": [
      "[22937, -190056, -468583, 416153, 186777]\n"
     ]
    }
   ],
   "source": [
    "enc_result = encrypted_vector + fp_encrypted_dividend\n",
    "dec_result = enc_result.decrypt()\n",
    "\n",
    "print(dec_result)"
   ],
   "metadata": {
    "collapsed": false,
    "pycharm": {
     "name": "#%%\n"
    }
   }
  },
  {
   "cell_type": "code",
   "execution_count": 94,
   "outputs": [
    {
     "name": "stdout",
     "output_type": "stream",
     "text": [
      "[32, 57, 17, 44, 37]\n"
     ]
    }
   ],
   "source": [
    "def encrypted_sum(ev):\n",
    "    d = ev.decrypt()\n",
    "    print(d)\n",
    "\n",
    "encrypted_sum(encrypted_vector)"
   ],
   "metadata": {
    "collapsed": false,
    "pycharm": {
     "name": "#%%\n"
    }
   }
  },
  {
   "cell_type": "code",
   "execution_count": 87,
   "outputs": [
    {
     "data": {
      "text/plain": "<tenseal.tensors.bfvvector.BFVVector at 0x7f0854014970>"
     },
     "execution_count": 87,
     "metadata": {},
     "output_type": "execute_result"
    }
   ],
   "source": [
    "result = encrypted_vector * fp_encrypted_dividend\n",
    "result"
   ],
   "metadata": {
    "collapsed": false,
    "pycharm": {
     "name": "#%%\n"
    }
   }
  },
  {
   "cell_type": "code",
   "execution_count": 88,
   "outputs": [
    {
     "name": "stdout",
     "output_type": "stream",
     "text": [
      "[26110, -405076, 78383, -222147, 352750] [0, -13, 2, -7, 10]\n"
     ]
    }
   ],
   "source": [
    "mul_result = result.decrypt()\n",
    "\n",
    "trunc_mul_result = trunc_array(mul_result, FRACTIONAL_BITS)\n",
    "print(mul_result, trunc_mul_result)\n",
    "# k = to_float(s[0], FRACTIONAL_BITS)\n",
    "# k"
   ],
   "metadata": {
    "collapsed": false,
    "pycharm": {
     "name": "#%%\n"
    }
   }
  },
  {
   "cell_type": "code",
   "execution_count": 44,
   "outputs": [
    {
     "data": {
      "text/plain": "0.001495361328125"
     },
     "execution_count": 44,
     "metadata": {},
     "output_type": "execute_result"
    }
   ],
   "source": [
    "ns = np.sum(s)\n",
    "fns = to_float(ns, FRACTIONAL_BITS)\n",
    "fns"
   ],
   "metadata": {
    "collapsed": false,
    "pycharm": {
     "name": "#%%\n"
    }
   }
  },
  {
   "cell_type": "code",
   "execution_count": 45,
   "outputs": [],
   "source": [
    "context = ts.context(ts.SCHEME_TYPE.BFV, poly_modulus_degree=4096, plain_modulus=1032193)\n",
    "public_context = ts.context(ts.SCHEME_TYPE.BFV, poly_modulus_degree=4096, plain_modulus=1032193)\n",
    "sk = public_context.secret_key()\n",
    "public_context.make_context_public()\n"
   ],
   "metadata": {
    "collapsed": false,
    "pycharm": {
     "name": "#%%\n"
    }
   }
  },
  {
   "cell_type": "code",
   "execution_count": 46,
   "outputs": [
    {
     "name": "stdout",
     "output_type": "stream",
     "text": [
      "[35, 31, 62, 67, 82]\n"
     ]
    }
   ],
   "source": [
    "add_result = encrypted_vector + [1, 2, 3, 4, 5]\n",
    "print(add_result.decrypt())"
   ],
   "metadata": {
    "collapsed": false,
    "pycharm": {
     "name": "#%%\n"
    }
   }
  }
 ],
 "metadata": {
  "kernelspec": {
   "display_name": "Python 3",
   "language": "python",
   "name": "python3"
  },
  "language_info": {
   "codemirror_mode": {
    "name": "ipython",
    "version": 2
   },
   "file_extension": ".py",
   "mimetype": "text/x-python",
   "name": "python",
   "nbconvert_exporter": "python",
   "pygments_lexer": "ipython2",
   "version": "2.7.6"
  }
 },
 "nbformat": 4,
 "nbformat_minor": 0
}