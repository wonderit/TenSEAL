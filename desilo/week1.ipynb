{
 "cells": [
  {
   "cell_type": "markdown",
   "metadata": {
    "collapsed": true,
    "pycharm": {
     "name": "#%% md\n"
    }
   },
   "source": [
    "# Week 1 study case.\n",
    "## Study requirements.\n",
    "USE SEAL!!!!!\n",
    "## Participants.\n",
    "1. Data providers - individuals (alba-saeng).\n",
    "2. Client (The government).\n",
    "3. Service provider (A surveying company).\n",
    "## Scenario.\n",
    "0.  The client has to decide\n",
    "    *  The level of security (Probably bound be the law).\n",
    "    *  The number of samples (Probably bound by the price of the service).\n",
    "1.  The client asks for a service to calculate the __average__ age of data providers to the service provider.\n",
    "2.  The service provider hands over the __*key generating program*__ to generate\n",
    "    *  a public key.\n",
    "    *  a set of evaluation keys.\n",
    "    *  an appropriate homomorphic encryption parameters. (encryption policy)\n",
    "3.  The client generates the necessary requirements, using the  __*key generating program*__, togther with the desired number of samples, and remits the public key, the evaluation key and the number of samples to the service provider. The client holds the private key and does not reveal it.\n",
    "4.  The service provider calls the data providers and distributes the __*encrypting program*__ that contains embedded public keys (the service provider holds the list of data providers).\n",
    "5.  Data providers encrypt their ages using the __*encrypting program*__ and submit the encrypted data to the service provider.\n",
    "6.  The service provider calculates the __average__ age in encrypted domain, then return the result to the client.\n",
    "7.  The client decrypts the result with the private key the party holds to itself."
   ]
  },
  {
   "cell_type": "code",
   "execution_count": 9,
   "outputs": [],
   "source": [
    "import numpy as np\n",
    "import tenseal as ts"
   ],
   "metadata": {
    "collapsed": false,
    "pycharm": {
     "name": "#%%\n"
    }
   }
  },
  {
   "cell_type": "code",
   "execution_count": 10,
   "outputs": [],
   "source": [
    "context = ts.context(ts.SCHEME_TYPE.BFV, poly_modulus_degree=4096, plain_modulus=1032193)\n",
    "public_context = ts.context(ts.SCHEME_TYPE.BFV, poly_modulus_degree=4096, plain_modulus=1032193)\n",
    "sk = public_context.secret_key()\n",
    "public_context.make_context_public()\n"
   ],
   "metadata": {
    "collapsed": false,
    "pycharm": {
     "name": "#%%\n"
    }
   }
  },
  {
   "cell_type": "code",
   "execution_count": 14,
   "outputs": [
    {
     "data": {
      "text/plain": "[18, 13, 51, 28, 68]"
     },
     "execution_count": 14,
     "metadata": {},
     "output_type": "execute_result"
    }
   ],
   "source": [
    "n_count = 5\n",
    "plain_vector = np.random.randint(10, 80, size=n_count).tolist()\n",
    "encrypted_vector = ts.bfv_vector(context, plain_vector)\n",
    "plain_vector"
   ],
   "metadata": {
    "collapsed": false,
    "pycharm": {
     "name": "#%%\n"
    }
   }
  },
  {
   "cell_type": "code",
   "execution_count": 15,
   "outputs": [
    {
     "name": "stdout",
     "output_type": "stream",
     "text": [
      "[19, 15, 54, 32, 73]\n"
     ]
    }
   ],
   "source": [
    "add_result = encrypted_vector + [1, 2, 3, 4, 5]\n",
    "print(add_result.decrypt())"
   ],
   "metadata": {
    "collapsed": false,
    "pycharm": {
     "name": "#%%\n"
    }
   }
  }
 ],
 "metadata": {
  "kernelspec": {
   "display_name": "Python 3",
   "language": "python",
   "name": "python3"
  },
  "language_info": {
   "codemirror_mode": {
    "name": "ipython",
    "version": 2
   },
   "file_extension": ".py",
   "mimetype": "text/x-python",
   "name": "python",
   "nbconvert_exporter": "python",
   "pygments_lexer": "ipython2",
   "version": "2.7.6"
  }
 },
 "nbformat": 4,
 "nbformat_minor": 0
}