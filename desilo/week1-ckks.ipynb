{
 "cells": [
  {
   "cell_type": "markdown",
   "metadata": {
    "collapsed": true,
    "pycharm": {
     "name": "#%% md\n"
    }
   },
   "source": [
    "# Week 1 study case.\n",
    "## Study requirements.\n",
    "USE SEAL!!!!!\n",
    "## Participants.\n",
    "1. Data providers - individuals (alba-saeng).\n",
    "2. Client (The government).\n",
    "3. Service provider (A surveying company).\n",
    "## Scenario.\n",
    "0.  The client has to decide\n",
    "    *  The level of security (Probably bound be the law).\n",
    "    *  The number of samples (Probably bound by the price of the service).\n",
    "1.  The client asks for a service to calculate the __average__ age of data providers to the service provider.\n",
    "2.  The service provider hands over the __*key generating program*__ to generate\n",
    "    *  a public key.\n",
    "    *  a set of evaluation keys.\n",
    "    *  an appropriate homomorphic encryption parameters. (encryption policy)\n",
    "3.  The client generates the necessary requirements, using the  __*key generating program*__, together with the desired number of samples, and remits the public key, the evaluation key and the number of samples to the service provider. The client holds the private key and does not reveal it.\n",
    "4.  The service provider calls the data providers and distributes the __*encrypting program*__ that contains embedded public keys (the service provider holds the list of data providers).\n",
    "5.  Data providers encrypt their ages using the __*encrypting program*__ and submit the encrypted data to the service provider.\n",
    "6.  The service provider calculates the __average__ age in encrypted domain, then return the result to the client.\n",
    "7.  The client decrypts the result with the private key the party holds to itself."
   ]
  },
  {
   "cell_type": "code",
   "execution_count": 1,
   "metadata": {
    "pycharm": {
     "name": "#%%\n"
    }
   },
   "outputs": [],
   "source": [
    "import numpy as np\n",
    "import tenseal as ts\n",
    "import time"
   ]
  },
  {
   "cell_type": "code",
   "execution_count": 2,
   "metadata": {
    "pycharm": {
     "name": "#%%\n"
    }
   },
   "outputs": [],
   "source": [
    "# parameters\n",
    "# FRACTIONAL_BITS = 15\n",
    "# Client\n",
    "security_level = {\n",
    "    'scheme_type': ts.SCHEME_TYPE.CKKS,\n",
    "    'poly_modulus_degree': 4096, # 4096\n",
    "    'plain_modulus': 1032193, #1032193\n",
    "    'coeff_modulus_bit_sizes': [40, 20, 40]\n",
    "}\n",
    "# create TenSEALContext\n",
    "ctx_eval = ts.context(security_level['scheme_type'], security_level['poly_modulus_degree'], -1, security_level['coeff_modulus_bit_sizes'])\n",
    "# scale of ciphertext to use\n",
    "ctx_eval.global_scale = 2 ** 20\n",
    "# this key is needed for doing dot-product operations\n",
    "ctx_eval.generate_galois_keys()"
   ]
  },
  {
   "cell_type": "code",
   "execution_count": 22,
   "metadata": {
    "pycharm": {
     "name": "#%%\n"
    }
   },
   "outputs": [],
   "source": [
    "n_count = 1000\n",
    "plain_vector = np.random.randint(10, 80, size=n_count).tolist()"
   ]
  },
  {
   "cell_type": "code",
   "execution_count": 4,
   "metadata": {
    "pycharm": {
     "name": "#%%\n"
    }
   },
   "outputs": [
    {
     "name": "stdout",
     "output_type": "stream",
     "text": [
      "Encrypting data took 0.9641 seconds\n"
     ]
    }
   ],
   "source": [
    "t_start = time.time()\n",
    "enc_plain_vector = [ts.ckks_vector(ctx_eval, [x]) for x in plain_vector]\n",
    "t_end = time.time()\n",
    "print(f\"Encrypting data took {(t_end - t_start):.4f} seconds\")"
   ]
  },
  {
   "cell_type": "code",
   "execution_count": 5,
   "metadata": {
    "pycharm": {
     "name": "#%%\n"
    }
   },
   "outputs": [],
   "source": [
    "def encrypted_evaluation(enc_data):\n",
    "    enc_result = 0\n",
    "    count = len(enc_data)\n",
    "    for enc_x in enc_data:\n",
    "        if enc_result == 0:\n",
    "            enc_result = enc_x\n",
    "        else:\n",
    "            enc_result = enc_result + enc_x\n",
    "    enc_result *= (1/count)\n",
    "    return enc_result"
   ]
  },
  {
   "cell_type": "code",
   "execution_count": 6,
   "metadata": {
    "pycharm": {
     "name": "#%%\n"
    }
   },
   "outputs": [
    {
     "name": "stdout",
     "output_type": "stream",
     "text": [
      "[44.861437627548966] 44.144\n",
      "Encryption average took 0.0172 seconds\n"
     ]
    }
   ],
   "source": [
    "t_start = time.time()\n",
    "encrypted_average = encrypted_evaluation(enc_plain_vector)\n",
    "\n",
    "print(encrypted_average.decrypt(), np.average(plain_vector))\n",
    "t_end = time.time()\n",
    "print(f\"Encryption average took {(t_end - t_start):.4f} seconds\")"
   ]
  },
  {
   "cell_type": "code",
   "execution_count": 23,
   "metadata": {
    "pycharm": {
     "name": "#%%\n"
    }
   },
   "outputs": [
    {
     "name": "stdout",
     "output_type": "stream",
     "text": [
      "Encrypting batch data took 0.0069 seconds 1000\n"
     ]
    }
   ],
   "source": [
    "t_start = time.time()\n",
    "enc_vec_batch = ts.ckks_vector(ctx_eval, plain_vector)\n",
    "enc_vec_count = ts.ckks_vector(ctx_eval, [(1/n_count)]*n_count)\n",
    "t_end = time.time()\n",
    "print(f\"Encrypting batch data took {(t_end - t_start):.4f} seconds\", len(plain_vector))"
   ]
  },
  {
   "cell_type": "code",
   "execution_count": 8,
   "metadata": {
    "pycharm": {
     "name": "#%%\n"
    }
   },
   "outputs": [],
   "source": [
    "def encrypted_evaluation_batch(enc_data, dividend):\n",
    "    return enc_data * dividend"
   ]
  },
  {
   "cell_type": "code",
   "execution_count": 17,
   "metadata": {
    "pycharm": {
     "name": "#%%\n"
    }
   },
   "outputs": [
    {
     "name": "stdout",
     "output_type": "stream",
     "text": [
      "4525205815.737571 44.54504\n",
      "Encryption average took 0.0553 seconds\n"
     ]
    }
   ],
   "source": [
    "t_start = time.time()\n",
    "encrypted_division = encrypted_evaluation_batch(enc_vec_batch, n_count)\n",
    "\n",
    "print(np.sum(encrypted_division.decrypt()), np.average(plain_vector))\n",
    "t_end = time.time()\n",
    "print(f\"Encryption average took {(t_end - t_start):.4f} seconds\")"
   ]
  },
  {
   "cell_type": "code",
   "execution_count": 15,
   "metadata": {},
   "outputs": [],
   "source": [
    "# experiment start\n",
    "\n",
    "import pandas as pd\n",
    "\n",
    "experiment = [\n",
    "    {\n",
    "        'n_count': 1000,\n",
    "        'enc_avg': 0,\n",
    "        'enc_avg_batch': 0,\n",
    "        'enc_time': 0,\n",
    "        'enc_avg_time': 0,\n",
    "        'avg': 0\n",
    "    },\n",
    "    \n",
    "    {\n",
    "        'n_count': 10000,\n",
    "        'enc_avg': 0,\n",
    "        'enc_avg_batch': 0,\n",
    "        'avg': 0\n",
    "    },\n",
    "\n",
    "    {\n",
    "        'n_count': 100000,\n",
    "        'enc_avg': 0,\n",
    "        'enc_avg_batch': 0,\n",
    "        'avg': 0\n",
    "    }\n",
    "]\n"
   ]
  },
  {
   "cell_type": "code",
   "execution_count": 18,
   "metadata": {
    "pycharm": {
     "name": "#%%\n"
    }
   },
   "outputs": [
    {
     "name": "stdout",
     "output_type": "stream",
     "text": [
      "Start 1th Experiment !!\n",
      "Encrypting data took 0.9371 seconds\n",
      "Encrypting batch data took 0.0023 seconds\n",
      "Encryption average took 0.0172 seconds\n",
      "Encryption average took 0.0004 seconds\n",
      "Start 2th Experiment !!\n",
      "Encrypting data took 9.1638 seconds\n",
      "WARNING: The input does not fit in a single ciphertext, and some operations will be disabled.\n",
      "The following operations are disabled in this setup: matmul, matmul_plain, enc_matmul_plain, conv2d_im2col.\n",
      "If you need to use those operations, try increasing the poly_modulus parameter, to fit your input.\n",
      "Encrypting batch data took 0.0072 seconds\n",
      "Encryption average took 0.1525 seconds\n",
      "Encryption average took 0.0019 seconds\n",
      "Start 3th Experiment !!\n",
      "Encrypting data took 91.5855 seconds\n",
      "WARNING: The input does not fit in a single ciphertext, and some operations will be disabled.\n",
      "The following operations are disabled in this setup: matmul, matmul_plain, enc_matmul_plain, conv2d_im2col.\n",
      "If you need to use those operations, try increasing the poly_modulus parameter, to fit your input.\n",
      "Encrypting batch data took 0.0645 seconds\n",
      "Encryption average took 1.3902 seconds\n",
      "Encryption average took 0.0191 seconds\n"
     ]
    }
   ],
   "source": [
    "for i, exp in enumerate(experiment):\n",
    "    print(f\"Start {i + 1}th Experiment !!\")\n",
    "\n",
    "    # data from data provider :\n",
    "    plain_vector = np.random.randint(10, 80, size=exp['n_count']).tolist()\n",
    "\n",
    "    # encrypt data\n",
    "    t_start = time.time()\n",
    "    enc_vec = [ts.ckks_vector(ctx_eval, [x]) for x in plain_vector]\n",
    "    t_end = time.time()\n",
    "\n",
    "    experiment[i]['enc_time'] = t_end - t_start\n",
    "    print(f\"Encrypting data took {(t_end - t_start):.4f} seconds\")\n",
    "\n",
    "    # encrypt data batch\n",
    "    t_start = time.time()\n",
    "    enc_vec_batch = ts.ckks_vector(ctx_eval, plain_vector)\n",
    "    enc_vec_count = ts.ckks_vector(ctx_eval, [(1/exp['n_count'])]*exp['n_count'])\n",
    "    t_end = time.time()\n",
    "    experiment[i]['enc_batch_time'] = t_end - t_start\n",
    "    print(f\"Encrypting batch data took {(t_end - t_start):.4f} seconds\")\n",
    "\n",
    "    # encrypted evaluation\n",
    "    t_start = time.time()\n",
    "    encrypted_average = encrypted_evaluation(enc_vec)\n",
    "    avg_result = encrypted_average.decrypt()\n",
    "    t_end = time.time()\n",
    "\n",
    "    experiment[i]['enc_avg'] = avg_result\n",
    "    experiment[i]['avg'] = np.average(plain_vector)\n",
    "\n",
    "    experiment[i]['enc_avg_time'] = t_end - t_start\n",
    "    print(f\"Encryption average took {(t_end - t_start):.4f} seconds\")\n",
    "\n",
    "    # encrypted batch evaluation\n",
    "    t_start = time.time()\n",
    "    encrypted_division = encrypted_evaluation_batch(enc_vec_batch, n_count)\n",
    "    avg_result = np.sum(encrypted_division.decrypt())\n",
    "    t_end = time.time()\n",
    "\n",
    "    experiment[i]['enc_avg_batch'] = np.sum(avg_result)\n",
    "    experiment[i]['enc_avg_batch_time'] = t_end - t_start\n",
    "    print(f\"Encryption average batch took {(t_end - t_start):.4f} seconds\")\n",
    "\n",
    "\n",
    "\n"
   ]
  },
  {
   "cell_type": "code",
   "execution_count": 19,
   "metadata": {
    "pycharm": {
     "name": "#%%\n"
    }
   },
   "outputs": [
    {
     "name": "stdout",
     "output_type": "stream",
     "text": [
      "   n_count               enc_avg  enc_avg_batch   enc_time  enc_avg_time  \\\n",
      "0     1000  [43.755069072307876]   4.373533e+07   0.937114      0.017159   \n",
      "1    10000   [45.53474691814647]   4.547499e+08   9.163823      0.152519   \n",
      "2   100000   [43.05938914993923]   4.514986e+09  91.585541      1.390153   \n",
      "\n",
      "        avg  enc_batch_time  enc_avg_batch_time  \n",
      "0  43.05200        0.002251            0.000392  \n",
      "1  44.76450        0.007228            0.001923  \n",
      "2  44.44444        0.064510            0.019071  \n"
     ]
    }
   ],
   "source": [
    "exp_df = pd.DataFrame(experiment)\n",
    "print(exp_df)"
   ]
  }
 ],
 "metadata": {
  "kernelspec": {
   "display_name": "Python 3 (ipykernel)",
   "language": "python",
   "name": "python3"
  },
  "language_info": {
   "codemirror_mode": {
    "name": "ipython",
    "version": 3
   },
   "file_extension": ".py",
   "mimetype": "text/x-python",
   "name": "python",
   "nbconvert_exporter": "python",
   "pygments_lexer": "ipython3",
   "version": "3.8.12"
  }
 },
 "nbformat": 4,
 "nbformat_minor": 1
}
