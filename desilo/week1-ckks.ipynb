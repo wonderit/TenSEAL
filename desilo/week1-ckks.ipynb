{
 "cells": [
  {
   "cell_type": "markdown",
   "metadata": {
    "collapsed": true,
    "pycharm": {
     "name": "#%% md\n"
    }
   },
   "source": [
    "# Week 1 study case.\n",
    "## Study requirements.\n",
    "USE SEAL!!!!!\n",
    "## Participants.\n",
    "1. Data providers - individuals (alba-saeng).\n",
    "2. Client (The government).\n",
    "3. Service provider (A surveying company).\n",
    "## Scenario.\n",
    "0.  The client has to decide\n",
    "    *  The level of security (Probably bound be the law).\n",
    "    *  The number of samples (Probably bound by the price of the service).\n",
    "1.  The client asks for a service to calculate the __average__ age of data providers to the service provider.\n",
    "2.  The service provider hands over the __*key generating program*__ to generate\n",
    "    *  a public key.\n",
    "    *  a set of evaluation keys.\n",
    "    *  an appropriate homomorphic encryption parameters. (encryption policy)\n",
    "3.  The client generates the necessary requirements, using the  __*key generating program*__, together with the desired number of samples, and remits the public key, the evaluation key and the number of samples to the service provider. The client holds the private key and does not reveal it.\n",
    "4.  The service provider calls the data providers and distributes the __*encrypting program*__ that contains embedded public keys (the service provider holds the list of data providers).\n",
    "5.  Data providers encrypt their ages using the __*encrypting program*__ and submit the encrypted data to the service provider.\n",
    "6.  The service provider calculates the __average__ age in encrypted domain, then return the result to the client.\n",
    "7.  The client decrypts the result with the private key the party holds to itself."
   ]
  },
  {
   "cell_type": "code",
   "execution_count": 1,
   "metadata": {
    "pycharm": {
     "name": "#%%\n"
    }
   },
   "outputs": [],
   "source": [
    "import numpy as np\n",
    "import tenseal as ts\n",
    "import time"
   ]
  },
  {
   "cell_type": "code",
   "execution_count": 2,
   "metadata": {
    "pycharm": {
     "name": "#%%\n"
    }
   },
   "outputs": [],
   "source": [
    "# parameters\n",
    "\n",
    "# Client\n",
    "security_level = {\n",
    "    'scheme_type': ts.SCHEME_TYPE.CKKS,\n",
    "    'poly_modulus_degree': 4096, # 4096\n",
    "    'plain_modulus': 1032193, #1032193\n",
    "    'coeff_modulus_bit_sizes': [40, 20, 40]\n",
    "}\n",
    "# create TenSEALContext\n",
    "ctx_eval = ts.context(security_level['scheme_type'], security_level['poly_modulus_degree'], -1, security_level['coeff_modulus_bit_sizes'])\n",
    "# scale of ciphertext to use\n",
    "ctx_eval.global_scale = 2 ** 20\n",
    "# this key is needed for doing dot-product operations\n",
    "ctx_eval.generate_galois_keys()"
   ]
  },
  {
   "cell_type": "code",
   "execution_count": 3,
   "metadata": {
    "pycharm": {
     "name": "#%%\n"
    }
   },
   "outputs": [],
   "source": [
    "n_count = 1000\n",
    "plain_vector = np.random.randint(10, 80, size=n_count).tolist()"
   ]
  },
  {
   "cell_type": "code",
   "execution_count": null,
   "metadata": {
    "pycharm": {
     "is_executing": true,
     "name": "#%%\n"
    }
   },
   "outputs": [],
   "source": [
    "t_start = time.time()\n",
    "enc_plain_vector = [ts.ckks_vector(ctx_eval, [x]) for x in plain_vector]\n",
    "t_end = time.time()\n",
    "print(f\"Encrypting data took {(t_end - t_start):.4f} seconds\")"
   ]
  },
  {
   "cell_type": "code",
   "execution_count": null,
   "metadata": {
    "pycharm": {
     "is_executing": true,
     "name": "#%%\n"
    }
   },
   "outputs": [],
   "source": [
    "def encrypted_evaluation(enc_data):\n",
    "    enc_result = 0\n",
    "    count = len(enc_data)\n",
    "    for enc_x in enc_data:\n",
    "        if enc_result == 0:\n",
    "            enc_result = enc_x\n",
    "        else:\n",
    "            enc_result = enc_result + enc_x\n",
    "    enc_result *= (1/count)\n",
    "    return enc_result"
   ]
  },
  {
   "cell_type": "code",
   "execution_count": null,
   "metadata": {
    "pycharm": {
     "is_executing": true,
     "name": "#%%\n"
    }
   },
   "outputs": [],
   "source": [
    "t_start = time.time()\n",
    "encrypted_average = encrypted_evaluation(enc_plain_vector)\n",
    "\n",
    "print(encrypted_average.decrypt(), np.average(plain_vector))\n",
    "t_end = time.time()\n",
    "print(f\"Encryption average took {(t_end - t_start):.4f} seconds\")"
   ]
  },
  {
   "cell_type": "code",
   "execution_count": null,
   "metadata": {
    "pycharm": {
     "is_executing": true,
     "name": "#%%\n"
    }
   },
   "outputs": [],
   "source": [
    "t_start = time.time()\n",
    "enc_vec_batch = ts.ckks_vector(ctx_eval, plain_vector)\n",
    "enc_vec_count = ts.ckks_vector(ctx_eval, [(1/n_count)]*n_count)\n",
    "t_end = time.time()\n",
    "print(f\"Encrypting batch data took {(t_end - t_start):.4f} seconds\", len(plain_vector))"
   ]
  },
  {
   "cell_type": "code",
   "execution_count": null,
   "metadata": {
    "pycharm": {
     "is_executing": true,
     "name": "#%%\n"
    }
   },
   "outputs": [],
   "source": [
    "def encrypted_evaluation_batch(enc_data, dividend):\n",
    "    return enc_data * dividend"
   ]
  },
  {
   "cell_type": "code",
   "execution_count": null,
   "metadata": {
    "pycharm": {
     "is_executing": true,
     "name": "#%%\n"
    }
   },
   "outputs": [],
   "source": [
    "t_start = time.time()\n",
    "encrypted_division = encrypted_evaluation_batch(enc_vec_batch, n_count)\n",
    "\n",
    "print(np.sum(encrypted_division.decrypt()), np.average(plain_vector))\n",
    "t_end = time.time()\n",
    "print(f\"Encryption average took {(t_end - t_start):.4f} seconds\")"
   ]
  },
  {
   "cell_type": "code",
   "execution_count": null,
   "metadata": {
    "pycharm": {
     "is_executing": true
    }
   },
   "outputs": [],
   "source": [
    "# experiment start\n",
    "\n",
    "import pandas as pd\n",
    "\n",
    "experiment = [\n",
    "    {\n",
    "        'n_count': 1000,\n",
    "        'enc_avg': 0,\n",
    "        'enc_avg_batch': 0,\n",
    "        'enc_time': 0,\n",
    "        'enc_avg_time': 0,\n",
    "        'avg': 0\n",
    "    },\n",
    "    \n",
    "    {\n",
    "        'n_count': 10000,\n",
    "        'enc_avg': 0,\n",
    "        'enc_avg_batch': 0,\n",
    "        'avg': 0\n",
    "    },\n",
    "\n",
    "    {\n",
    "        'n_count': 100000,\n",
    "        'enc_avg': 0,\n",
    "        'enc_avg_batch': 0,\n",
    "        'avg': 0\n",
    "    }\n",
    "]\n"
   ]
  },
  {
   "cell_type": "code",
   "execution_count": null,
   "metadata": {
    "pycharm": {
     "is_executing": true,
     "name": "#%%\n"
    }
   },
   "outputs": [],
   "source": [
    "for i, exp in enumerate(experiment):\n",
    "    print(f\"Start {i + 1}th Experiment !!\")\n",
    "\n",
    "    # data from data provider :\n",
    "    plain_vector = np.random.randint(10, 80, size=exp['n_count']).tolist()\n",
    "\n",
    "    # encrypt data\n",
    "    t_start = time.time()\n",
    "    enc_vec = [ts.ckks_vector(ctx_eval, [x]) for x in plain_vector]\n",
    "    t_end = time.time()\n",
    "\n",
    "    experiment[i]['enc_time'] = t_end - t_start\n",
    "    print(f\"Encrypting data took {(t_end - t_start):.4f} seconds\")\n",
    "\n",
    "    # encrypt data batch\n",
    "    t_start = time.time()\n",
    "    enc_vec_batch = ts.ckks_vector(ctx_eval, plain_vector)\n",
    "    enc_vec_count = ts.ckks_vector(ctx_eval, [(1/exp['n_count'])]*exp['n_count'])\n",
    "    t_end = time.time()\n",
    "    experiment[i]['enc_batch_time'] = t_end - t_start\n",
    "    print(f\"Encrypting batch data took {(t_end - t_start):.4f} seconds\")\n",
    "\n",
    "    # encrypted evaluation\n",
    "    t_start = time.time()\n",
    "    encrypted_average = encrypted_evaluation(enc_vec)\n",
    "    avg_result = encrypted_average.decrypt()\n",
    "    t_end = time.time()\n",
    "\n",
    "    experiment[i]['enc_avg'] = avg_result\n",
    "    experiment[i]['avg'] = np.average(plain_vector)\n",
    "\n",
    "    experiment[i]['enc_avg_time'] = t_end - t_start\n",
    "    print(f\"Encryption average took {(t_end - t_start):.4f} seconds\")\n",
    "\n",
    "    # encrypted batch evaluation\n",
    "    t_start = time.time()\n",
    "    encrypted_division = encrypted_evaluation_batch(enc_vec_batch, enc_vec_count)\n",
    "    avg_result = np.sum(encrypted_division.decrypt())\n",
    "    t_end = time.time()\n",
    "\n",
    "    experiment[i]['enc_avg_batch'] = avg_result\n",
    "    experiment[i]['enc_avg_batch_time'] = t_end - t_start\n",
    "    print(f\"Encryption average batch took {(t_end - t_start):.4f} seconds\")\n",
    "\n",
    "\n",
    "\n"
   ]
  },
  {
   "cell_type": "code",
   "execution_count": null,
   "metadata": {
    "pycharm": {
     "is_executing": true,
     "name": "#%%\n"
    },
    "scrolled": true
   },
   "outputs": [],
   "source": [
    "exp_df = pd.DataFrame(experiment)\n",
    "print(exp_df)"
   ]
  },
  {
   "cell_type": "markdown",
   "metadata": {},
   "source": [
    "# Result from TenSEAL (Python)\n",
    "\n",
    "| n_count | avg | enc_avg | enc_time | enc_avg_time|\n",
    "| --- | --- | --- | ---| --- |\n",
    "|1000|44.754|45.48334|0.928284|0.015331|\n",
    "|10000|44.2746|45.03694|9.317988|0.147862|\n",
    "|100000|44.47829|43.090839|93.304964|1.425126|"
   ]
  },
  {
   "cell_type": "markdown",
   "metadata": {},
   "source": [
    "# Result from Pyfhel (Python)\n",
    "\n",
    "| n_count | avg | enc_avg | enc_time | enc_avg_time|\n",
    "| --- | --- | --- | ---| --- |\n",
    "|   1000| 44.8850|  44.884997  |  6.055524 |     0.014923 |\n",
    "|    10000|  44.8569|  44.856824 |  60.538693 |     0.140753|\n",
    "|   100000|  44.5717|  44.571002 | 602.128384  |    1.385665|"
   ]
  },
  {
   "cell_type": "markdown",
   "metadata": {},
   "source": [
    "# Result from SEAL (C++)\n",
    "\n",
    "\n",
    "|n_count | avg | enc_avg | enc_time | enc_avg_time|\n",
    "| --- | --- | --- | ---| ---|\n",
    "|1000|48.1|48.3288|0.003|0.015|"
   ]
  },
  {
   "cell_type": "markdown",
   "metadata": {},
   "source": [
    "![n1](screenshots/rotate.png)"
   ]
  },
  {
   "cell_type": "markdown",
   "metadata": {},
   "source": [
    "![nn](screenshots/rotate2.png)"
   ]
  },
  {
   "cell_type": "markdown",
   "metadata": {},
   "source": [
    "# Result from SEAL (C++)\n",
    "\n",
    "\n",
    "|n_count | avg | enc_avg | enc_time | enc_avg_time|\n",
    "| --- | --- | --- | ---| ---|\n",
    "|1000|48.1|48.3288|0.003|0.015|"
   ]
  }
 ],
 "metadata": {
  "kernelspec": {
   "display_name": "Python 3 (ipykernel)",
   "language": "python",
   "name": "python3"
  },
  "language_info": {
   "codemirror_mode": {
    "name": "ipython",
    "version": 3
   },
   "file_extension": ".py",
   "mimetype": "text/x-python",
   "name": "python",
   "nbconvert_exporter": "python",
   "pygments_lexer": "ipython3",
   "version": "3.8.12"
  }
 },
 "nbformat": 4,
 "nbformat_minor": 1
}