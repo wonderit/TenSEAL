{
 "cells": [
  {
   "cell_type": "markdown",
   "metadata": {
    "collapsed": true,
    "pycharm": {
     "name": "#%% md\n"
    }
   },
   "source": [
    "# Week 1 study case.\n",
    "## Study requirements.\n",
    "USE SEAL!!!!!\n",
    "## Participants.\n",
    "1. Data providers - individuals (alba-saeng).\n",
    "2. Client (The government).\n",
    "3. Service provider (A surveying company).\n",
    "## Scenario.\n",
    "0.  The client has to decide\n",
    "    *  The level of security (Probably bound be the law).\n",
    "    *  The number of samples (Probably bound by the price of the service).\n",
    "1.  The client asks for a service to calculate the __average__ age of data providers to the service provider.\n",
    "2.  The service provider hands over the __*key generating program*__ to generate\n",
    "    *  a public key.\n",
    "    *  a set of evaluation keys.\n",
    "    *  an appropriate homomorphic encryption parameters. (encryption policy)\n",
    "3.  The client generates the necessary requirements, using the  __*key generating program*__, together with the desired number of samples, and remits the public key, the evaluation key and the number of samples to the service provider. The client holds the private key and does not reveal it.\n",
    "4.  The service provider calls the data providers and distributes the __*encrypting program*__ that contains embedded public keys (the service provider holds the list of data providers).\n",
    "5.  Data providers encrypt their ages using the __*encrypting program*__ and submit the encrypted data to the service provider.\n",
    "6.  The service provider calculates the __average__ age in encrypted domain, then return the result to the client.\n",
    "7.  The client decrypts the result with the private key the party holds to itself."
   ]
  },
  {
   "cell_type": "code",
   "execution_count": 1,
   "metadata": {
    "pycharm": {
     "name": "#%%\n"
    }
   },
   "outputs": [],
   "source": [
    "import numpy as np\n",
    "import tenseal as ts\n",
    "import time"
   ]
  },
  {
   "cell_type": "code",
   "execution_count": 2,
   "metadata": {
    "pycharm": {
     "name": "#%%\n"
    }
   },
   "outputs": [],
   "source": [
    "# parameters\n",
    "# FRACTIONAL_BITS = 15\n",
    "# Client\n",
    "security_level = {\n",
    "    'scheme_type': ts.SCHEME_TYPE.CKKS,\n",
    "    'poly_modulus_degree': 4096,\n",
    "    'plain_modulus': 1032193,\n",
    "    'coeff_modulus_bit_sizes': [40, 20, 40]\n",
    "}\n",
    "poly_mod_degree = 4096\n",
    "coeff_mod_bit_sizes = [40, 20, 40]\n",
    "# create TenSEALContext\n",
    "ctx_eval = ts.context(security_level['scheme_type'], security_level['poly_modulus_degree'], -1, security_level['coeff_modulus_bit_sizes'])\n",
    "# scale of ciphertext to use\n",
    "ctx_eval.global_scale = 2 ** 20\n",
    "# this key is needed for doing dot-product operations\n",
    "ctx_eval.generate_galois_keys()"
   ]
  },
  {
   "cell_type": "code",
   "execution_count": 3,
   "metadata": {
    "pycharm": {
     "name": "#%%\n"
    }
   },
   "outputs": [],
   "source": [
    "n_count = 1000\n",
    "plain_vector = np.random.randint(10, 80, size=n_count).tolist()"
   ]
  },
  {
   "cell_type": "code",
   "execution_count": 4,
   "metadata": {
    "pycharm": {
     "name": "#%%\n"
    }
   },
   "outputs": [
    {
     "name": "stdout",
     "output_type": "stream",
     "text": [
      "Encrypting data took 0.9485 seconds\n"
     ]
    }
   ],
   "source": [
    "t_start = time.time()\n",
    "enc_plain_vector = [ts.ckks_vector(ctx_eval, [x]) for x in plain_vector]\n",
    "t_end = time.time()\n",
    "print(f\"Encrypting data took {(t_end - t_start):.4f} seconds\")"
   ]
  },
  {
   "cell_type": "code",
   "execution_count": 5,
   "metadata": {
    "pycharm": {
     "name": "#%%\n"
    }
   },
   "outputs": [],
   "source": [
    "def encrypted_evaluation(enc_data):\n",
    "    enc_result = 0\n",
    "    count = len(enc_data)\n",
    "    for enc_x in enc_data:\n",
    "        if enc_result == 0:\n",
    "            enc_result = enc_x\n",
    "        else:\n",
    "            enc_result = enc_result + enc_x\n",
    "    enc_result *= (1/count)\n",
    "    return enc_result"
   ]
  },
  {
   "cell_type": "code",
   "execution_count": 6,
   "metadata": {
    "pycharm": {
     "name": "#%%\n"
    }
   },
   "outputs": [
    {
     "name": "stdout",
     "output_type": "stream",
     "text": [
      "[45.69704236741398] 44.966\n",
      "Encryption average took 0.0156 seconds\n"
     ]
    }
   ],
   "source": [
    "t_start = time.time()\n",
    "encrypted_average = encrypted_evaluation(enc_plain_vector)\n",
    "\n",
    "print(encrypted_average.decrypt(), np.average(plain_vector))\n",
    "t_end = time.time()\n",
    "print(f\"Encryption average took {(t_end - t_start):.4f} seconds\")"
   ]
  },
  {
   "cell_type": "code",
   "execution_count": 7,
   "metadata": {
    "pycharm": {
     "name": "#%%\n"
    }
   },
   "outputs": [
    {
     "name": "stdout",
     "output_type": "stream",
     "text": [
      "Encrypting batch data took 0.0022 seconds\n"
     ]
    }
   ],
   "source": [
    "t_start = time.time()\n",
    "enc_vec_batch = ts.ckks_vector(ctx_eval, plain_vector)\n",
    "enc_vec_count = ts.ckks_vector(ctx_eval, [(1/n_count)]*n_count)\n",
    "t_end = time.time()\n",
    "print(f\"Encrypting batch data took {(t_end - t_start):.4f} seconds\")"
   ]
  },
  {
   "cell_type": "code",
   "execution_count": 8,
   "metadata": {
    "pycharm": {
     "name": "#%%\n"
    }
   },
   "outputs": [],
   "source": [
    "def encrypted_evaluation_batch(enc_data, dividend):\n",
    "    return enc_data * dividend"
   ]
  },
  {
   "cell_type": "code",
   "execution_count": 9,
   "metadata": {
    "pycharm": {
     "name": "#%%\n"
    }
   },
   "outputs": [
    {
     "name": "stdout",
     "output_type": "stream",
     "text": [
      "45679710.24202508 44.966\n",
      "Encryption average took 0.0007 seconds\n"
     ]
    }
   ],
   "source": [
    "t_start = time.time()\n",
    "encrypted_division = encrypted_evaluation_batch(enc_vec_batch, n_count)\n",
    "\n",
    "print(np.sum(encrypted_division.decrypt()), np.average(plain_vector))\n",
    "t_end = time.time()\n",
    "print(f\"Encryption average took {(t_end - t_start):.4f} seconds\")"
   ]
  },
  {
   "cell_type": "code",
   "execution_count": 10,
   "metadata": {},
   "outputs": [],
   "source": [
    "# experiment start\n",
    "\n",
    "import pandas as pd\n",
    "\n",
    "experiment = [\n",
    "    {\n",
    "        'n_count': 1000,\n",
    "        'enc_avg': 0,\n",
    "        'enc_avg_batch': 0,\n",
    "        'enc_time': 0,\n",
    "        'enc_avg_time': 0,\n",
    "        'avg': 0\n",
    "    },\n",
    "    \n",
    "    {\n",
    "        'n_count': 10000,\n",
    "        'enc_avg': 0,\n",
    "        'enc_avg_batch': 0,\n",
    "        'avg': 0\n",
    "    },\n",
    "    \n",
    "    {\n",
    "        'n_count': 100000,\n",
    "        'enc_avg': 0,\n",
    "        'enc_avg_batch': 0,\n",
    "        'avg': 0\n",
    "    }\n",
    "]\n"
   ]
  },
  {
   "cell_type": "code",
   "execution_count": 11,
   "outputs": [],
   "source": [
    "for exp in experiment:\n",
    "    # data from data provider :\n",
    "    plain_vector = np.random.randint(10, 80, size=exp['n_count']).tolist()\n",
    "\n",
    "    # encrypt data\n",
    "\n",
    "\n",
    "    # encrypt data batch\n",
    "\n"
   ],
   "metadata": {
    "collapsed": false,
    "pycharm": {
     "name": "#%%\n"
    }
   }
  },
  {
   "cell_type": "code",
   "execution_count": 12,
   "outputs": [
    {
     "name": "stdout",
     "output_type": "stream",
     "text": [
      "   n_count  enc_avg  enc_avg_batch  enc_time  enc_avg_time  avg\n",
      "0     1000        0              0       0.0           0.0    0\n",
      "1    10000        0              0       NaN           NaN    0\n",
      "2   100000        0              0       NaN           NaN    0\n"
     ]
    }
   ],
   "source": [
    "exp_df = pd.DataFrame(experiment)\n",
    "print(exp_df)"
   ],
   "metadata": {
    "collapsed": false,
    "pycharm": {
     "name": "#%%\n"
    }
   }
  }
 ],
 "metadata": {
  "kernelspec": {
   "display_name": "Python 3 (ipykernel)",
   "language": "python",
   "name": "python3"
  },
  "language_info": {
   "codemirror_mode": {
    "name": "ipython",
    "version": 3
   },
   "file_extension": ".py",
   "mimetype": "text/x-python",
   "name": "python",
   "nbconvert_exporter": "python",
   "pygments_lexer": "ipython3",
   "version": "3.8.12"
  }
 },
 "nbformat": 4,
 "nbformat_minor": 1
}